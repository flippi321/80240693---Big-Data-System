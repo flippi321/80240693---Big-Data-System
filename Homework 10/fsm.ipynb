{
 "cells": [
  {
   "cell_type": "code",
   "execution_count": 4,
   "metadata": {},
   "outputs": [],
   "source": [
    "import pandas as pd\n",
    "import numpy as np\n",
    "import json\n",
    "from collections import defaultdict\n",
    "from itertools import combinations\n",
    "from networkx.algorithms import isomorphism\n",
    "from math import comb\n",
    "from multiprocessing import Pool"
   ]
  },
  {
   "cell_type": "code",
   "execution_count": 5,
   "metadata": {},
   "outputs": [],
   "source": [
    "\n",
    "def build_graph(edges, vertices):\n",
    "    print(\"Building graph...\")\n",
    "    graph = defaultdict(list)\n",
    "    \n",
    "    # Ensure unique indices in the vertices DataFrame\n",
    "    vertices = vertices.drop_duplicates(subset='id').set_index('id')\n",
    "    \n",
    "    # Add all edges to the graph\n",
    "    for _, row in edges.iterrows():\n",
    "        source, target = row['source_id'], row['target_id']\n",
    "        graph[source].append((target, row['amt'], row['strategy_name'], row['buscode']))\n",
    "    \n",
    "    print(f\"Total nodes: {len(graph)}, Total edges: {sum(len(v) for v in graph.values())}\\n\")\n",
    "    return graph\n",
    "\n",
    "def hash_edge(source, target, amt, strategy_name, buscode):\n",
    "    # I think we can go without some of these values, but thought they might be nice to have anyways :-)\n",
    "    return f\"{min(source, target)}-{max(source, target)}-{amt}-{strategy_name}-{buscode}\"\n",
    "\n",
    "def mine_frequent_subgraphs(graph, pattern_size, support_threshold, output_file):\n",
    "    print(\"Mining frequent subgraphs...\")\n",
    "    subgraph_counts = defaultdict(int)\n",
    "    subgraph_patterns = defaultdict(list)\n",
    "    \n",
    "    # Iterate over node combinations\n",
    "    for nodes in combinations(graph.keys(), pattern_size):\n",
    "        edges = []\n",
    "        for u, v in combinations(nodes, 2):\n",
    "            if v in [neighbor[0] for neighbor in graph[u]]:\n",
    "                edge_details = next(\n",
    "                    (neighbor for neighbor in graph[u] if neighbor[0] == v), None\n",
    "                )\n",
    "                if edge_details:\n",
    "                    edges.append(\n",
    "                        hash_edge(u, v, *edge_details[1:])\n",
    "                    )\n",
    "        \n",
    "        if len(edges) == pattern_size:\n",
    "            subgraph_key = \"_\".join(sorted(edges))\n",
    "            subgraph_counts[subgraph_key] += 1\n",
    "            subgraph_patterns[subgraph_key].append(edges)\n",
    "    \n",
    "    # Filter frequent subgraphs\n",
    "    frequent_subgraphs = {\n",
    "        k: v for k, v in subgraph_counts.items() if v >= support_threshold\n",
    "    }\n",
    "    \n",
    "    save_results(frequent_subgraphs, subgraph_patterns, output_file)\n",
    "    print(\"Frequent subgraph mining completed.\")\n",
    "\n",
    "def save_results(frequent_subgraphs, subgraph_patterns, output_file):\n",
    "    result = []\n",
    "    for subgraph, frequency in frequent_subgraphs.items():\n",
    "        edges = subgraph_patterns[subgraph]\n",
    "        result.append({\n",
    "            \"frequency\": frequency,\n",
    "            \"edges\": [{\"source\": edge.split(\"-\")[0], \"target\": edge.split(\"-\")[1], \"details\": edge} for edge in edges]\n",
    "        })\n",
    "    \n",
    "    with open(output_file, 'w') as f:\n",
    "        json.dump(result, f, indent=4)\n",
    "    print(f\"Results saved to {output_file}\")"
   ]
  },
  {
   "cell_type": "code",
   "execution_count": null,
   "metadata": {},
   "outputs": [
    {
     "name": "stdout",
     "output_type": "stream",
     "text": [
      "Reading data...\n"
     ]
    }
   ],
   "source": [
    "print(\"Reading data...\")\n",
    "header1 = ['id', 'name', 'timestamp', 'black']\n",
    "header2 = ['source_id', 'target_id', 'timestamp', 'amt', 'strategy_name', 'trade_no', 'buscode', 'other']\n",
    "\n",
    "account = pd.read_csv('data/account', names=header1, sep=',')\n",
    "card = pd.read_csv('data/card', names=header1, sep=',')\n",
    "account_to_account = pd.read_csv('data/account_to_account', names=header2, sep=',', usecols=range(len(header2)))\n",
    "account_to_card = pd.read_csv('data/account_to_card', names=header2, sep=',', usecols=range(len(header2)))\n",
    "\n",
    "vertices = pd.concat([account, card])\n",
    "edges = pd.concat([account_to_account, account_to_card])\n",
    "edges['amt'] = edges['amt'].round()\n",
    "\n",
    "graph = build_graph(edges, vertices)\n",
    "\n",
    "# Start mining frequent subgraphs\n",
    "mine_frequent_subgraphs(\n",
    "    graph,\n",
    "    pattern_size=3,\n",
    "    support_threshold=10000,\n",
    "    output_file=f\"results/frequent_subgraphs.json\"\n",
    ")"
   ]
  }
 ],
 "metadata": {
  "kernelspec": {
   "display_name": "Python 3",
   "language": "python",
   "name": "python3"
  },
  "language_info": {
   "codemirror_mode": {
    "name": "ipython",
    "version": 3
   },
   "file_extension": ".py",
   "mimetype": "text/x-python",
   "name": "python",
   "nbconvert_exporter": "python",
   "pygments_lexer": "ipython3",
   "version": "3.11.1"
  }
 },
 "nbformat": 4,
 "nbformat_minor": 2
}
